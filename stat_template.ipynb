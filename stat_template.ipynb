{
 "cells": [
  {
   "cell_type": "code",
   "execution_count": 1,
   "id": "9041e409",
   "metadata": {},
   "outputs": [],
   "source": [
    "import pandas as pd\n",
    "from scipy import stats\n",
    "import scikit_posthocs as sp\n",
    "from statsmodels.stats.multicomp import pairwise_tukeyhsd\n",
    "import numpy as np\n",
    "import matplotlib.pyplot as plt\n",
    "from statsmodels.stats.diagnostic import kstest_normal\n",
    "import statsmodels.api as sm\n",
    "import pyreadstat\n",
    "import pingouin as pg\n"
   ]
  },
  {
   "cell_type": "code",
   "execution_count": 2,
   "id": "06973a7e",
   "metadata": {},
   "outputs": [],
   "source": [
    "def test_normality(data, significance_level = 0.05, test_type='s-w'):\n",
    "    '''\n",
    "    Normality testing is crucial because a lot of statistical tests assume normality of data.\n",
    "    2 tests are most commonly used:\n",
    "    - Kolmogorov-Smirnov test\n",
    "    - Shapiro-Wilk test \n",
    "    \n",
    "    Differences:\n",
    "    -K-S test can be used in various types of data, \n",
    "    S-W test is suitable only for continous data\n",
    "    -S-W is more accurate for smaller samples (under 50)\n",
    "    \n",
    "    '''\n",
    "    if test_type == 'k-s':\n",
    "        stat,p = kstest_normal(data,'norm')\n",
    "    elif test_type == 's-w':\n",
    "        stat,p = stats.shapiro(data)\n",
    "    else:\n",
    "        raise ValueError(\"Podano błędną nazwę testu normalności rozkładu\")\n",
    "    print(f\"Wartość statystyki testu: {stat} \\n\" \n",
    "          f\"Wartość p: {p} \\n\" \n",
    "    return stat,p"
   ]
  },
  {
   "cell_type": "code",
   "execution_count": null,
   "id": "7678fff6",
   "metadata": {},
   "outputs": [],
   "source": [
    "def test_var_homogeneity(group1,group2):\n",
    "    \n",
    "    \n",
    "    statistic, p_value = stats.levene(group1, group2)\n",
    "    print(f\"Wartość statystyki Levene'a: {statistic} \\n\"\n",
    "          f\"Wartość p: {p_value}\")\n",
    "    return statistic, p_value"
   ]
  },
  {
   "cell_type": "code",
   "execution_count": 4,
   "id": "5be5b9c5",
   "metadata": {},
   "outputs": [],
   "source": [
    "def correlation(x, y, corr_type = 'spearman'):\n",
    "    ''' \n",
    "    if data is not parametric you should use \n",
    "    spearman's correlation, pearson's otherwise \n",
    "    \n",
    "    '''\n",
    "    if corr_type == 'pearson':\n",
    "        corr_coef,p_value = stats.pearsonr(x,y)\n",
    "    elif corr_type == 'spearman':\n",
    "        corr_coef,p_value = stats.spearmanr(x,y)\n",
    "    else:\n",
    "        raise ValueError('Upewnij się, że poprawnie wprowadzono typ korelacji')\n",
    "    print(f\"Wartość współczynnika: {corr_coef}\"\n",
    "          f\"Wartość p: {p_value}\")\n",
    "    return corr_coef,p_value"
   ]
  },
  {
   "cell_type": "code",
   "execution_count": null,
   "id": "0931a610",
   "metadata": {},
   "outputs": [],
   "source": [
    "def mann_whitney(x1,x2):\n",
    "    '''\n",
    "    non parametric counterpart of the t test\n",
    "    '''\n",
    "    statistic, p_value = stats.mannwhitneyu(x1,x2)\n",
    "    print(f\"Wartość statystyki U: {statistic} \\n\"\n",
    "          f\"Wartość p: {p_value}\") \n",
    "    return statistic, p_value\n",
    "    "
   ]
  },
  {
   "cell_type": "code",
   "execution_count": null,
   "id": "8513e303",
   "metadata": {},
   "outputs": [],
   "source": [
    "def kruskal_wallis(*args):\n",
    "    '''\n",
    "    The Kruskal-Wallis test is non-parametric counterpart of \n",
    "    Annova - it is used to compare mean ranks in more than two independent groups.\n",
    "    \n",
    "    Assumptions:\n",
    "        - similar shapes of distributions\n",
    "        - independence of groups\n",
    "        - ordinal or continuous variables\n",
    "    \n",
    "    '''\n",
    "    statistic, p_value = stats.kruskal([arg for arg in args])\n",
    "    print(f\"Wartość statystyki H: {statistic} \\n\"\n",
    "          f\"Wartość p: {p_value}\")\n",
    "    return statistic, p_value"
   ]
  },
  {
   "cell_type": "code",
   "execution_count": null,
   "id": "02146840",
   "metadata": {},
   "outputs": [],
   "source": [
    "def oneway_annova(*args):\n",
    "    '''\n",
    "    The oneway Annova test is used to assess differences between more than two groups\n",
    "    \n",
    "    Assumptions:\n",
    "        - normality of distributions\n",
    "        - homogeneity of variances\n",
    "        - independence of groups\n",
    "    \n",
    "    '''\n",
    "    \n",
    "    statistic, p_value = stats.f_oneway([arg for arg in args])\n",
    "    print(f\"Wartość statystyki F: {statistic} \\n\"\n",
    "          f\"Wartość p: {p_value}\")\n",
    "    return statistic,p_value"
   ]
  },
  {
   "cell_type": "code",
   "execution_count": null,
   "id": "89a5d967",
   "metadata": {},
   "outputs": [],
   "source": [
    "def t_test(x1,x2):\n",
    "    '''\n",
    "    T test allows to check for statistical difference between \n",
    "    two groups\n",
    "    \n",
    "    Assumptions:\n",
    "        - normality of distributions\n",
    "        - homogeneity of variances\n",
    "        - independence of groups\n",
    "    '''\n",
    "    statistic, p_value = stats.ttest_ind(x1,x2)\n",
    "    print(f\"Wartość statystyki t: {statistic} \\n\"\n",
    "                  f\"Wartość p: {p_value}\")\n",
    "    return statistic, p_value\n",
    "    "
   ]
  },
  {
   "cell_type": "code",
   "execution_count": 1,
   "id": "a4f61ccc",
   "metadata": {},
   "outputs": [],
   "source": [
    "def posthoc_test(is_parametric = False,*args):\n",
    "    if is_parametric:\n",
    "        tukey_results = pairwise_tukeyhsd(data.iloc[:,0], data.iloc[:,3], alpha=0.05)\n",
    "        print(tukey_results)\n",
    "    else:\n",
    "        dunn_result = sp.posthoc_dunn([arg for arg in args], p_adjust = 'bonferroni')\n",
    "        print(dunn_result)"
   ]
  },
  {
   "cell_type": "code",
   "execution_count": 231,
   "id": "598c6f1a",
   "metadata": {},
   "outputs": [],
   "source": [
    "def plot_distribution(data,bins,x_title):\n",
    "    plt.hist(data,bins=bins,alpha=0.9)\n",
    "    plt.title(f'Rozkład Zmiennej {x_title}')\n",
    "    plt.xlabel(f'{x_title}')\n",
    "    plt.ylabel('Częstość')\n",
    "    plt.show()"
   ]
  },
  {
   "cell_type": "code",
   "execution_count": null,
   "id": "4cfa9a77",
   "metadata": {},
   "outputs": [],
   "source": [
    "def plot_scatter(x,y):\n",
    "    slope, intercept = np.polyfit(x, y, deg=1)\n",
    "    regression_line = [slope * i + intercept for i in x]\n",
    "    plt.scatter(x, y, color='blue', label='Data')\n",
    "    plt.plot(x, regression_line, color='red')\n",
    "    plt.title(f'Wykres rozrzutu zmiennej {x.name} i zmiennej {y.name} z linią regresji')\n",
    "    plt.xlabel(f'{x.name}')\n",
    "    plt.ylabel(f'{y.name}')\n",
    "    plt.show()"
   ]
  },
  {
   "cell_type": "code",
   "execution_count": null,
   "id": "a6a29c9e",
   "metadata": {},
   "outputs": [],
   "source": [
    "def freq_table(data,headers):\n",
    "    table = data.value_counts().reset_index()\n",
    "    table['Percentage'] = round(table['count'].div(table['count'].sum()) * 100,2)\n",
    "    print(tabulate(table, headers=headers, tablefmt=\"fancy_grid\"))"
   ]
  },
  {
   "cell_type": "code",
   "execution_count": 6,
   "id": "c1edff76",
   "metadata": {},
   "outputs": [],
   "source": [
    "def boxplot(*args, headers = None, title = None):\n",
    "    plt.boxplot([arg for arg in args])\n",
    "    plt.xticks(range(1,len(args)+1),[arg.name for arg in args])\n",
    "    plt.title(title)\n",
    "    plt.show()"
   ]
  },
  {
   "cell_type": "code",
   "execution_count": 7,
   "id": "be4fb4aa",
   "metadata": {},
   "outputs": [],
   "source": [
    "def simple_lreg(y_col,*args):\n",
    "    X = dane.iloc[:,[arg for arg in args]]\n",
    "    y = dane.iloc[:,y_col]\n",
    "    model = sm.OLS(y, X).fit()\n",
    "    return model"
   ]
  },
  {
   "cell_type": "code",
   "execution_count": 8,
   "id": "17205f53",
   "metadata": {},
   "outputs": [],
   "source": [
    "def draw_pie(data,labels,colors):\n",
    "    plt.pie(data.value_counts(),autopct='%1.1f%%',startangle=90,colors=colors)\n",
    "    plt.title(f'Rozkład zmiennej {data.name}') \n",
    "    plt.legend(labels,bbox_to_anchor=(1.3, 0.9))\n",
    "    plt.show()"
   ]
  },
  {
   "cell_type": "code",
   "execution_count": 9,
   "id": "738510fe",
   "metadata": {},
   "outputs": [],
   "source": [
    "def describe_data(data):\n",
    "    stats = data.describe().transpose()\n",
    "    table = pd.DataFrame()\n",
    "    new_column_names = {\n",
    "    'count': 'Liczba obserwacji',\n",
    "    'mean': 'Średnia',\n",
    "    'std': 'Odchylenie standardowe',\n",
    "    'min': 'Minimum',\n",
    "    '25%': 'Kwartyl dolny',\n",
    "    '50%': 'Mediana',\n",
    "    '75%': 'Kwartyl górny',\n",
    "    'max': 'Maksimum'\n",
    "    }\n",
    "    for column in stats.columns:\n",
    "        table[column] = stats[column]\n",
    "    for statistic in stats.index:\n",
    "        table.loc[statistic] = stats.loc[statistic]\n",
    "    table.rename(columns=new_column_names, inplace=True)\n",
    "    for column in table.columns:\n",
    "        table[column] = round(table[column],2)\n",
    "    return table "
   ]
  },
  {
   "cell_type": "code",
   "execution_count": null,
   "id": "4e49657a",
   "metadata": {},
   "outputs": [],
   "source": [
    "file_path = ''\n",
    "data,metadata = pyreadstat.read_sav(file_path)"
   ]
  }
 ],
 "metadata": {
  "kernelspec": {
   "display_name": "Python 3 (ipykernel)",
   "language": "python",
   "name": "python3"
  },
  "language_info": {
   "codemirror_mode": {
    "name": "ipython",
    "version": 3
   },
   "file_extension": ".py",
   "mimetype": "text/x-python",
   "name": "python",
   "nbconvert_exporter": "python",
   "pygments_lexer": "ipython3",
   "version": "3.9.16"
  }
 },
 "nbformat": 4,
 "nbformat_minor": 5
}
